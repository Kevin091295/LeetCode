{
  "nbformat": 4,
  "nbformat_minor": 0,
  "metadata": {
    "colab": {
      "provenance": [],
      "gpuType": "T4",
      "mount_file_id": "1epsJqSeUob3oqCCY86zt9BMavu9ksIAB",
      "authorship_tag": "ABX9TyO/fOZqgn+ipVfyBcTVgmVp",
      "include_colab_link": true
    },
    "kernelspec": {
      "name": "python3",
      "display_name": "Python 3"
    },
    "language_info": {
      "name": "python"
    },
    "widgets": {
      "application/vnd.jupyter.widget-state+json": {
        "449891d34537475196331d8759ed67d1": {
          "model_module": "@jupyter-widgets/controls",
          "model_name": "HBoxModel",
          "model_module_version": "1.5.0",
          "state": {
            "_dom_classes": [],
            "_model_module": "@jupyter-widgets/controls",
            "_model_module_version": "1.5.0",
            "_model_name": "HBoxModel",
            "_view_count": null,
            "_view_module": "@jupyter-widgets/controls",
            "_view_module_version": "1.5.0",
            "_view_name": "HBoxView",
            "box_style": "",
            "children": [
              "IPY_MODEL_2692fbea746b458483fa916856f6c8b8",
              "IPY_MODEL_6682e6c57dbe494497aa75ac45c71a50",
              "IPY_MODEL_13941972cb0142a2acb4d16e08431584"
            ],
            "layout": "IPY_MODEL_1b5288fe77a3433cb1708c2bda542c42"
          }
        },
        "2692fbea746b458483fa916856f6c8b8": {
          "model_module": "@jupyter-widgets/controls",
          "model_name": "HTMLModel",
          "model_module_version": "1.5.0",
          "state": {
            "_dom_classes": [],
            "_model_module": "@jupyter-widgets/controls",
            "_model_module_version": "1.5.0",
            "_model_name": "HTMLModel",
            "_view_count": null,
            "_view_module": "@jupyter-widgets/controls",
            "_view_module_version": "1.5.0",
            "_view_name": "HTMLView",
            "description": "",
            "description_tooltip": null,
            "layout": "IPY_MODEL_bb7e595909344319a3536a659e74b094",
            "placeholder": "​",
            "style": "IPY_MODEL_dbc5c762fcd34703ad02f6efd988056d",
            "value": "Generating train split: "
          }
        },
        "6682e6c57dbe494497aa75ac45c71a50": {
          "model_module": "@jupyter-widgets/controls",
          "model_name": "FloatProgressModel",
          "model_module_version": "1.5.0",
          "state": {
            "_dom_classes": [],
            "_model_module": "@jupyter-widgets/controls",
            "_model_module_version": "1.5.0",
            "_model_name": "FloatProgressModel",
            "_view_count": null,
            "_view_module": "@jupyter-widgets/controls",
            "_view_module_version": "1.5.0",
            "_view_name": "ProgressView",
            "bar_style": "success",
            "description": "",
            "description_tooltip": null,
            "layout": "IPY_MODEL_20f7b15487954861a69035c81d9cd751",
            "max": 1,
            "min": 0,
            "orientation": "horizontal",
            "style": "IPY_MODEL_316f1e4c3b944ebb992a5b8293e90792",
            "value": 1
          }
        },
        "13941972cb0142a2acb4d16e08431584": {
          "model_module": "@jupyter-widgets/controls",
          "model_name": "HTMLModel",
          "model_module_version": "1.5.0",
          "state": {
            "_dom_classes": [],
            "_model_module": "@jupyter-widgets/controls",
            "_model_module_version": "1.5.0",
            "_model_name": "HTMLModel",
            "_view_count": null,
            "_view_module": "@jupyter-widgets/controls",
            "_view_module_version": "1.5.0",
            "_view_name": "HTMLView",
            "description": "",
            "description_tooltip": null,
            "layout": "IPY_MODEL_c93de9fc0a87454bbb37d894e667858a",
            "placeholder": "​",
            "style": "IPY_MODEL_80da382feb134cefa5b356bda8be5ede",
            "value": " 5/0 [00:00&lt;00:00, 47.08 examples/s]"
          }
        },
        "1b5288fe77a3433cb1708c2bda542c42": {
          "model_module": "@jupyter-widgets/base",
          "model_name": "LayoutModel",
          "model_module_version": "1.2.0",
          "state": {
            "_model_module": "@jupyter-widgets/base",
            "_model_module_version": "1.2.0",
            "_model_name": "LayoutModel",
            "_view_count": null,
            "_view_module": "@jupyter-widgets/base",
            "_view_module_version": "1.2.0",
            "_view_name": "LayoutView",
            "align_content": null,
            "align_items": null,
            "align_self": null,
            "border": null,
            "bottom": null,
            "display": null,
            "flex": null,
            "flex_flow": null,
            "grid_area": null,
            "grid_auto_columns": null,
            "grid_auto_flow": null,
            "grid_auto_rows": null,
            "grid_column": null,
            "grid_gap": null,
            "grid_row": null,
            "grid_template_areas": null,
            "grid_template_columns": null,
            "grid_template_rows": null,
            "height": null,
            "justify_content": null,
            "justify_items": null,
            "left": null,
            "margin": null,
            "max_height": null,
            "max_width": null,
            "min_height": null,
            "min_width": null,
            "object_fit": null,
            "object_position": null,
            "order": null,
            "overflow": null,
            "overflow_x": null,
            "overflow_y": null,
            "padding": null,
            "right": null,
            "top": null,
            "visibility": null,
            "width": null
          }
        },
        "bb7e595909344319a3536a659e74b094": {
          "model_module": "@jupyter-widgets/base",
          "model_name": "LayoutModel",
          "model_module_version": "1.2.0",
          "state": {
            "_model_module": "@jupyter-widgets/base",
            "_model_module_version": "1.2.0",
            "_model_name": "LayoutModel",
            "_view_count": null,
            "_view_module": "@jupyter-widgets/base",
            "_view_module_version": "1.2.0",
            "_view_name": "LayoutView",
            "align_content": null,
            "align_items": null,
            "align_self": null,
            "border": null,
            "bottom": null,
            "display": null,
            "flex": null,
            "flex_flow": null,
            "grid_area": null,
            "grid_auto_columns": null,
            "grid_auto_flow": null,
            "grid_auto_rows": null,
            "grid_column": null,
            "grid_gap": null,
            "grid_row": null,
            "grid_template_areas": null,
            "grid_template_columns": null,
            "grid_template_rows": null,
            "height": null,
            "justify_content": null,
            "justify_items": null,
            "left": null,
            "margin": null,
            "max_height": null,
            "max_width": null,
            "min_height": null,
            "min_width": null,
            "object_fit": null,
            "object_position": null,
            "order": null,
            "overflow": null,
            "overflow_x": null,
            "overflow_y": null,
            "padding": null,
            "right": null,
            "top": null,
            "visibility": null,
            "width": null
          }
        },
        "dbc5c762fcd34703ad02f6efd988056d": {
          "model_module": "@jupyter-widgets/controls",
          "model_name": "DescriptionStyleModel",
          "model_module_version": "1.5.0",
          "state": {
            "_model_module": "@jupyter-widgets/controls",
            "_model_module_version": "1.5.0",
            "_model_name": "DescriptionStyleModel",
            "_view_count": null,
            "_view_module": "@jupyter-widgets/base",
            "_view_module_version": "1.2.0",
            "_view_name": "StyleView",
            "description_width": ""
          }
        },
        "20f7b15487954861a69035c81d9cd751": {
          "model_module": "@jupyter-widgets/base",
          "model_name": "LayoutModel",
          "model_module_version": "1.2.0",
          "state": {
            "_model_module": "@jupyter-widgets/base",
            "_model_module_version": "1.2.0",
            "_model_name": "LayoutModel",
            "_view_count": null,
            "_view_module": "@jupyter-widgets/base",
            "_view_module_version": "1.2.0",
            "_view_name": "LayoutView",
            "align_content": null,
            "align_items": null,
            "align_self": null,
            "border": null,
            "bottom": null,
            "display": null,
            "flex": null,
            "flex_flow": null,
            "grid_area": null,
            "grid_auto_columns": null,
            "grid_auto_flow": null,
            "grid_auto_rows": null,
            "grid_column": null,
            "grid_gap": null,
            "grid_row": null,
            "grid_template_areas": null,
            "grid_template_columns": null,
            "grid_template_rows": null,
            "height": null,
            "justify_content": null,
            "justify_items": null,
            "left": null,
            "margin": null,
            "max_height": null,
            "max_width": null,
            "min_height": null,
            "min_width": null,
            "object_fit": null,
            "object_position": null,
            "order": null,
            "overflow": null,
            "overflow_x": null,
            "overflow_y": null,
            "padding": null,
            "right": null,
            "top": null,
            "visibility": null,
            "width": "20px"
          }
        },
        "316f1e4c3b944ebb992a5b8293e90792": {
          "model_module": "@jupyter-widgets/controls",
          "model_name": "ProgressStyleModel",
          "model_module_version": "1.5.0",
          "state": {
            "_model_module": "@jupyter-widgets/controls",
            "_model_module_version": "1.5.0",
            "_model_name": "ProgressStyleModel",
            "_view_count": null,
            "_view_module": "@jupyter-widgets/base",
            "_view_module_version": "1.2.0",
            "_view_name": "StyleView",
            "bar_color": null,
            "description_width": ""
          }
        },
        "c93de9fc0a87454bbb37d894e667858a": {
          "model_module": "@jupyter-widgets/base",
          "model_name": "LayoutModel",
          "model_module_version": "1.2.0",
          "state": {
            "_model_module": "@jupyter-widgets/base",
            "_model_module_version": "1.2.0",
            "_model_name": "LayoutModel",
            "_view_count": null,
            "_view_module": "@jupyter-widgets/base",
            "_view_module_version": "1.2.0",
            "_view_name": "LayoutView",
            "align_content": null,
            "align_items": null,
            "align_self": null,
            "border": null,
            "bottom": null,
            "display": null,
            "flex": null,
            "flex_flow": null,
            "grid_area": null,
            "grid_auto_columns": null,
            "grid_auto_flow": null,
            "grid_auto_rows": null,
            "grid_column": null,
            "grid_gap": null,
            "grid_row": null,
            "grid_template_areas": null,
            "grid_template_columns": null,
            "grid_template_rows": null,
            "height": null,
            "justify_content": null,
            "justify_items": null,
            "left": null,
            "margin": null,
            "max_height": null,
            "max_width": null,
            "min_height": null,
            "min_width": null,
            "object_fit": null,
            "object_position": null,
            "order": null,
            "overflow": null,
            "overflow_x": null,
            "overflow_y": null,
            "padding": null,
            "right": null,
            "top": null,
            "visibility": null,
            "width": null
          }
        },
        "80da382feb134cefa5b356bda8be5ede": {
          "model_module": "@jupyter-widgets/controls",
          "model_name": "DescriptionStyleModel",
          "model_module_version": "1.5.0",
          "state": {
            "_model_module": "@jupyter-widgets/controls",
            "_model_module_version": "1.5.0",
            "_model_name": "DescriptionStyleModel",
            "_view_count": null,
            "_view_module": "@jupyter-widgets/base",
            "_view_module_version": "1.2.0",
            "_view_name": "StyleView",
            "description_width": ""
          }
        },
        "9c9ded8b33134532b2ba61f7cfbaa5c0": {
          "model_module": "@jupyter-widgets/controls",
          "model_name": "HBoxModel",
          "model_module_version": "1.5.0",
          "state": {
            "_dom_classes": [],
            "_model_module": "@jupyter-widgets/controls",
            "_model_module_version": "1.5.0",
            "_model_name": "HBoxModel",
            "_view_count": null,
            "_view_module": "@jupyter-widgets/controls",
            "_view_module_version": "1.5.0",
            "_view_name": "HBoxView",
            "box_style": "",
            "children": [
              "IPY_MODEL_6c5f971787644f6a917394316a3a8f5e",
              "IPY_MODEL_f4194ded70a34c689a2b67b4a8c8a5d7",
              "IPY_MODEL_5538cb026cd94edfa32d40a76befd1b0"
            ],
            "layout": "IPY_MODEL_82290e4857ad4bfeae97dfcd08b2f4fb"
          }
        },
        "6c5f971787644f6a917394316a3a8f5e": {
          "model_module": "@jupyter-widgets/controls",
          "model_name": "HTMLModel",
          "model_module_version": "1.5.0",
          "state": {
            "_dom_classes": [],
            "_model_module": "@jupyter-widgets/controls",
            "_model_module_version": "1.5.0",
            "_model_name": "HTMLModel",
            "_view_count": null,
            "_view_module": "@jupyter-widgets/controls",
            "_view_module_version": "1.5.0",
            "_view_name": "HTMLView",
            "description": "",
            "description_tooltip": null,
            "layout": "IPY_MODEL_96e0302b44544f3a83a65e6fb039f189",
            "placeholder": "​",
            "style": "IPY_MODEL_8c56351da2d5422e94b6e9ea6a62dae3",
            "value": "Map: 100%"
          }
        },
        "f4194ded70a34c689a2b67b4a8c8a5d7": {
          "model_module": "@jupyter-widgets/controls",
          "model_name": "FloatProgressModel",
          "model_module_version": "1.5.0",
          "state": {
            "_dom_classes": [],
            "_model_module": "@jupyter-widgets/controls",
            "_model_module_version": "1.5.0",
            "_model_name": "FloatProgressModel",
            "_view_count": null,
            "_view_module": "@jupyter-widgets/controls",
            "_view_module_version": "1.5.0",
            "_view_name": "ProgressView",
            "bar_style": "success",
            "description": "",
            "description_tooltip": null,
            "layout": "IPY_MODEL_f0ce85c3b9524e59966af717d8eba78d",
            "max": 5,
            "min": 0,
            "orientation": "horizontal",
            "style": "IPY_MODEL_21bf10d5e4064a0ebe7623fd1ff2c6a1",
            "value": 5
          }
        },
        "5538cb026cd94edfa32d40a76befd1b0": {
          "model_module": "@jupyter-widgets/controls",
          "model_name": "HTMLModel",
          "model_module_version": "1.5.0",
          "state": {
            "_dom_classes": [],
            "_model_module": "@jupyter-widgets/controls",
            "_model_module_version": "1.5.0",
            "_model_name": "HTMLModel",
            "_view_count": null,
            "_view_module": "@jupyter-widgets/controls",
            "_view_module_version": "1.5.0",
            "_view_name": "HTMLView",
            "description": "",
            "description_tooltip": null,
            "layout": "IPY_MODEL_2b4fa3c0a71d461297a767a533a2e1a3",
            "placeholder": "​",
            "style": "IPY_MODEL_4f978f87f74641d8af275d1398ba9047",
            "value": " 5/5 [00:00&lt;00:00, 57.48 examples/s]"
          }
        },
        "82290e4857ad4bfeae97dfcd08b2f4fb": {
          "model_module": "@jupyter-widgets/base",
          "model_name": "LayoutModel",
          "model_module_version": "1.2.0",
          "state": {
            "_model_module": "@jupyter-widgets/base",
            "_model_module_version": "1.2.0",
            "_model_name": "LayoutModel",
            "_view_count": null,
            "_view_module": "@jupyter-widgets/base",
            "_view_module_version": "1.2.0",
            "_view_name": "LayoutView",
            "align_content": null,
            "align_items": null,
            "align_self": null,
            "border": null,
            "bottom": null,
            "display": null,
            "flex": null,
            "flex_flow": null,
            "grid_area": null,
            "grid_auto_columns": null,
            "grid_auto_flow": null,
            "grid_auto_rows": null,
            "grid_column": null,
            "grid_gap": null,
            "grid_row": null,
            "grid_template_areas": null,
            "grid_template_columns": null,
            "grid_template_rows": null,
            "height": null,
            "justify_content": null,
            "justify_items": null,
            "left": null,
            "margin": null,
            "max_height": null,
            "max_width": null,
            "min_height": null,
            "min_width": null,
            "object_fit": null,
            "object_position": null,
            "order": null,
            "overflow": null,
            "overflow_x": null,
            "overflow_y": null,
            "padding": null,
            "right": null,
            "top": null,
            "visibility": null,
            "width": null
          }
        },
        "96e0302b44544f3a83a65e6fb039f189": {
          "model_module": "@jupyter-widgets/base",
          "model_name": "LayoutModel",
          "model_module_version": "1.2.0",
          "state": {
            "_model_module": "@jupyter-widgets/base",
            "_model_module_version": "1.2.0",
            "_model_name": "LayoutModel",
            "_view_count": null,
            "_view_module": "@jupyter-widgets/base",
            "_view_module_version": "1.2.0",
            "_view_name": "LayoutView",
            "align_content": null,
            "align_items": null,
            "align_self": null,
            "border": null,
            "bottom": null,
            "display": null,
            "flex": null,
            "flex_flow": null,
            "grid_area": null,
            "grid_auto_columns": null,
            "grid_auto_flow": null,
            "grid_auto_rows": null,
            "grid_column": null,
            "grid_gap": null,
            "grid_row": null,
            "grid_template_areas": null,
            "grid_template_columns": null,
            "grid_template_rows": null,
            "height": null,
            "justify_content": null,
            "justify_items": null,
            "left": null,
            "margin": null,
            "max_height": null,
            "max_width": null,
            "min_height": null,
            "min_width": null,
            "object_fit": null,
            "object_position": null,
            "order": null,
            "overflow": null,
            "overflow_x": null,
            "overflow_y": null,
            "padding": null,
            "right": null,
            "top": null,
            "visibility": null,
            "width": null
          }
        },
        "8c56351da2d5422e94b6e9ea6a62dae3": {
          "model_module": "@jupyter-widgets/controls",
          "model_name": "DescriptionStyleModel",
          "model_module_version": "1.5.0",
          "state": {
            "_model_module": "@jupyter-widgets/controls",
            "_model_module_version": "1.5.0",
            "_model_name": "DescriptionStyleModel",
            "_view_count": null,
            "_view_module": "@jupyter-widgets/base",
            "_view_module_version": "1.2.0",
            "_view_name": "StyleView",
            "description_width": ""
          }
        },
        "f0ce85c3b9524e59966af717d8eba78d": {
          "model_module": "@jupyter-widgets/base",
          "model_name": "LayoutModel",
          "model_module_version": "1.2.0",
          "state": {
            "_model_module": "@jupyter-widgets/base",
            "_model_module_version": "1.2.0",
            "_model_name": "LayoutModel",
            "_view_count": null,
            "_view_module": "@jupyter-widgets/base",
            "_view_module_version": "1.2.0",
            "_view_name": "LayoutView",
            "align_content": null,
            "align_items": null,
            "align_self": null,
            "border": null,
            "bottom": null,
            "display": null,
            "flex": null,
            "flex_flow": null,
            "grid_area": null,
            "grid_auto_columns": null,
            "grid_auto_flow": null,
            "grid_auto_rows": null,
            "grid_column": null,
            "grid_gap": null,
            "grid_row": null,
            "grid_template_areas": null,
            "grid_template_columns": null,
            "grid_template_rows": null,
            "height": null,
            "justify_content": null,
            "justify_items": null,
            "left": null,
            "margin": null,
            "max_height": null,
            "max_width": null,
            "min_height": null,
            "min_width": null,
            "object_fit": null,
            "object_position": null,
            "order": null,
            "overflow": null,
            "overflow_x": null,
            "overflow_y": null,
            "padding": null,
            "right": null,
            "top": null,
            "visibility": null,
            "width": null
          }
        },
        "21bf10d5e4064a0ebe7623fd1ff2c6a1": {
          "model_module": "@jupyter-widgets/controls",
          "model_name": "ProgressStyleModel",
          "model_module_version": "1.5.0",
          "state": {
            "_model_module": "@jupyter-widgets/controls",
            "_model_module_version": "1.5.0",
            "_model_name": "ProgressStyleModel",
            "_view_count": null,
            "_view_module": "@jupyter-widgets/base",
            "_view_module_version": "1.2.0",
            "_view_name": "StyleView",
            "bar_color": null,
            "description_width": ""
          }
        },
        "2b4fa3c0a71d461297a767a533a2e1a3": {
          "model_module": "@jupyter-widgets/base",
          "model_name": "LayoutModel",
          "model_module_version": "1.2.0",
          "state": {
            "_model_module": "@jupyter-widgets/base",
            "_model_module_version": "1.2.0",
            "_model_name": "LayoutModel",
            "_view_count": null,
            "_view_module": "@jupyter-widgets/base",
            "_view_module_version": "1.2.0",
            "_view_name": "LayoutView",
            "align_content": null,
            "align_items": null,
            "align_self": null,
            "border": null,
            "bottom": null,
            "display": null,
            "flex": null,
            "flex_flow": null,
            "grid_area": null,
            "grid_auto_columns": null,
            "grid_auto_flow": null,
            "grid_auto_rows": null,
            "grid_column": null,
            "grid_gap": null,
            "grid_row": null,
            "grid_template_areas": null,
            "grid_template_columns": null,
            "grid_template_rows": null,
            "height": null,
            "justify_content": null,
            "justify_items": null,
            "left": null,
            "margin": null,
            "max_height": null,
            "max_width": null,
            "min_height": null,
            "min_width": null,
            "object_fit": null,
            "object_position": null,
            "order": null,
            "overflow": null,
            "overflow_x": null,
            "overflow_y": null,
            "padding": null,
            "right": null,
            "top": null,
            "visibility": null,
            "width": null
          }
        },
        "4f978f87f74641d8af275d1398ba9047": {
          "model_module": "@jupyter-widgets/controls",
          "model_name": "DescriptionStyleModel",
          "model_module_version": "1.5.0",
          "state": {
            "_model_module": "@jupyter-widgets/controls",
            "_model_module_version": "1.5.0",
            "_model_name": "DescriptionStyleModel",
            "_view_count": null,
            "_view_module": "@jupyter-widgets/base",
            "_view_module_version": "1.2.0",
            "_view_name": "StyleView",
            "description_width": ""
          }
        }
      }
    },
    "accelerator": "GPU"
  },
  "cells": [
    {
      "cell_type": "markdown",
      "metadata": {
        "id": "view-in-github",
        "colab_type": "text"
      },
      "source": [
        "<a href=\"https://colab.research.google.com/github/Kevin091295/LeetCode/blob/main/Unstructured.ipynb\" target=\"_parent\"><img src=\"https://colab.research.google.com/assets/colab-badge.svg\" alt=\"Open In Colab\"/></a>"
      ]
    },
    {
      "cell_type": "markdown",
      "source": [
        "This code is for just simple one page file ie. resume"
      ],
      "metadata": {
        "id": "WVuCReJsprnX"
      }
    },
    {
      "cell_type": "code",
      "source": [
        "!pip install -q transformers datasets peft bitsandbytes accelerate pdfplumber\n"
      ],
      "metadata": {
        "colab": {
          "base_uri": "https://localhost:8080/"
        },
        "id": "Vw3_jnG_j1Fb",
        "outputId": "58399b07-ce11-4809-8516-57ce0c3487e3"
      },
      "execution_count": 9,
      "outputs": [
        {
          "output_type": "stream",
          "name": "stdout",
          "text": [
            "\u001b[2K     \u001b[90m━━━━━━━━━━━━━━━━━━━━━━━━━━━━━━━━━━━━━━━━\u001b[0m \u001b[32m42.5/42.5 kB\u001b[0m \u001b[31m1.7 MB/s\u001b[0m eta \u001b[36m0:00:00\u001b[0m\n",
            "\u001b[2K     \u001b[90m━━━━━━━━━━━━━━━━━━━━━━━━━━━━━━━━━━━━━━━━\u001b[0m \u001b[32m48.2/48.2 kB\u001b[0m \u001b[31m2.9 MB/s\u001b[0m eta \u001b[36m0:00:00\u001b[0m\n",
            "\u001b[2K   \u001b[90m━━━━━━━━━━━━━━━━━━━━━━━━━━━━━━━━━━━━━━━━\u001b[0m \u001b[32m59.5/59.5 kB\u001b[0m \u001b[31m3.8 MB/s\u001b[0m eta \u001b[36m0:00:00\u001b[0m\n",
            "\u001b[2K   \u001b[90m━━━━━━━━━━━━━━━━━━━━━━━━━━━━━━━━━━━━━━━━\u001b[0m \u001b[32m5.6/5.6 MB\u001b[0m \u001b[31m68.7 MB/s\u001b[0m eta \u001b[36m0:00:00\u001b[0m\n",
            "\u001b[2K   \u001b[90m━━━━━━━━━━━━━━━━━━━━━━━━━━━━━━━━━━━━━━━━\u001b[0m \u001b[32m2.9/2.9 MB\u001b[0m \u001b[31m61.1 MB/s\u001b[0m eta \u001b[36m0:00:00\u001b[0m\n",
            "\u001b[?25h"
          ]
        }
      ]
    },
    {
      "cell_type": "code",
      "source": [
        "import pdfplumber\n",
        "\n",
        "def extract_text_from_pdf(pdf_path):\n",
        "    with pdfplumber.open(pdf_path) as pdf:\n",
        "        text = \"\\n\".join([page.extract_text() for page in pdf.pages if page.extract_text()])\n",
        "    return text.strip()\n",
        "\n",
        "resume_text = extract_text_from_pdf(\"/content/drive/MyDrive/Kevin_Panchal.pdf\")\n",
        "print(resume_text[:500])  # Preview first 500 characters\n"
      ],
      "metadata": {
        "colab": {
          "base_uri": "https://localhost:8080/"
        },
        "id": "41GiKcrwj3MI",
        "outputId": "323c103b-6ede-46b4-db2b-636fb1b6b6db"
      },
      "execution_count": 10,
      "outputs": [
        {
          "output_type": "stream",
          "name": "stdout",
          "text": [
            "Kevin Panchal\n",
            "Email Id: kevinpanchal95@gmail.com| +1 (669)-338-9772 | LinkedIn: www.linkedin.com/in/kevin-panchal.\n",
            "GitHub:- https://github.com/Kevin091295\n",
            "SUMMARY\n",
            "Seeking a full-time position in Data Science, Machine Learning, or AI Development. Skilled in Python, R, SQL, word\n",
            "embedding, and CNNs, with a focus on analyzing data and developing AI-driven solutions. Currently enhancing my\n",
            "expertise in large language models (LLMs), graph databases, and vector databases\n",
            "EDUCATION\n",
            "Cleveland State Univ\n"
          ]
        }
      ]
    },
    {
      "cell_type": "code",
      "source": [
        "import json\n",
        "\n",
        "training_data = [\n",
        "    {\n",
        "        \"instruction\": \"Extract University/Colleges details from the resume.\",\n",
        "        \"input\": resume_text,\n",
        "        \"output\": \"Kevin did masters in software engineering from Cleveland State University\"\n",
        "    },\n",
        "    {\n",
        "        \"instruction\": \"What degree does the person hold?\",\n",
        "        \"input\": resume_text,\n",
        "        \"output\": \"Master's in Software Engineering and Bachelor's in computer engineering\"\n",
        "    },\n",
        "    {\n",
        "        \"instruction\": \"Extract work experience from the resume.\",\n",
        "        \"input\": resume_text,\n",
        "        \"output\": \"India Post Department, Business Development Officer (2018-2022)\"\n",
        "    },\n",
        "    {\n",
        "        \"instruction\": \"Extract technical skills from the resume.\",\n",
        "        \"input\": resume_text,\n",
        "        \"output\": \"Python, Machine Learning, LLM Fine-Tuning, Django\"\n",
        "    },\n",
        "    {\n",
        "        \"instruction\": \"Extract the person's Email from the resume.\",\n",
        "        \"input\": resume_text,\n",
        "        \"output\": \"kevinpanchal95@gmail.com\"\n",
        "    }\n",
        "]\n",
        "\n",
        "# Save dataset\n",
        "json_path = \"/content/drive/MyDrive/resume_finetune.json\"\n",
        "with open(json_path, \"w\") as f:\n",
        "    json.dump(training_data, f, indent=4)\n",
        "\n",
        "print(f\"Updated dataset saved at {json_path}\")\n"
      ],
      "metadata": {
        "colab": {
          "base_uri": "https://localhost:8080/"
        },
        "id": "AZbDWzstkPOa",
        "outputId": "8218dc2f-4195-4dc8-fc52-88913b4c6aba"
      },
      "execution_count": 11,
      "outputs": [
        {
          "output_type": "stream",
          "name": "stdout",
          "text": [
            "Updated dataset saved at /content/drive/MyDrive/resume_finetune.json\n"
          ]
        }
      ]
    },
    {
      "cell_type": "code",
      "source": [
        "incorrect_answers = [\n",
        "    {\n",
        "        \"instruction\": \"Where did the person study?\",\n",
        "        \"input\": \"Resume:\\n\" + resume_text,\n",
        "        \"wrong_output\": \"Harvard University\",\n",
        "        \"correct_output\": \"Cleveland State University\"\n",
        "    }\n",
        "]\n",
        "\n",
        "with open(\"/content/drive/MyDrive/incorrect_answers.json\", \"w\") as f:\n",
        "    json.dump(incorrect_answers, f, indent=4)\n",
        "\n",
        "print(\"Incorrect answers stored for further fine-tuning.\")\n"
      ],
      "metadata": {
        "colab": {
          "base_uri": "https://localhost:8080/"
        },
        "id": "dhEuImnyRHWw",
        "outputId": "34555dbd-559f-4436-f952-a5aeb800c44e"
      },
      "execution_count": 12,
      "outputs": [
        {
          "output_type": "stream",
          "name": "stdout",
          "text": [
            "Incorrect answers stored for further fine-tuning.\n"
          ]
        }
      ]
    },
    {
      "cell_type": "markdown",
      "source": [
        "Execute Below Code if cuda is not available"
      ],
      "metadata": {
        "id": "8u2P1tuXwarR"
      }
    },
    {
      "cell_type": "code",
      "source": [
        "# !pip uninstall -y bitsandbytes\n",
        "# !pip install bitsandbytes --no-cache-dir\n",
        "# !pip install --upgrade transformers accelerate\n",
        "\n",
        "# import bitsandbytes as bnb\n",
        "# print(\"BitsAndBytes Version:\", bnb.__version__)"
      ],
      "metadata": {
        "colab": {
          "base_uri": "https://localhost:8080/"
        },
        "collapsed": true,
        "id": "9hslct6bt0PP",
        "outputId": "bbcc1a05-5d28-47a9-e51d-56642586138d"
      },
      "execution_count": 2,
      "outputs": [
        {
          "output_type": "stream",
          "name": "stdout",
          "text": [
            "\u001b[33mWARNING: Skipping bitsandbytes as it is not installed.\u001b[0m\u001b[33m\n",
            "\u001b[0m"
          ]
        }
      ]
    },
    {
      "cell_type": "code",
      "source": [
        "import torch\n",
        "from transformers import LlamaForCausalLM, AutoTokenizer, BitsAndBytesConfig\n",
        "from peft import get_peft_model, LoraConfig, TaskType\n",
        "\n",
        "MODEL_NAME = \"meta-llama/Llama-3.2-1B\"\n",
        "print(\"CUDA Available:\", torch.cuda.is_available())\n",
        "print(\"CUDA Device Count:\", torch.cuda.device_count())\n",
        "print(\"CUDA Device Name:\", torch.cuda.get_device_name(0) if torch.cuda.is_available() else \"No GPU found\")\n",
        "\n",
        "# Load tokenizer\n",
        "tokenizer = AutoTokenizer.from_pretrained(MODEL_NAME)\n",
        "tokenizer.pad_token = tokenizer.eos_token\n",
        "\n",
        "# 4-bit quantization config (Reduces GPU usage)\n",
        "bnb_config = BitsAndBytesConfig(\n",
        "    load_in_4bit=True,\n",
        "    bnb_4bit_compute_dtype=torch.float16,\n",
        "    bnb_4bit_quant_type=\"nf4\",\n",
        "    bnb_4bit_use_double_quant=True\n",
        ")\n",
        "\n",
        "# Load model efficiently\n",
        "model = LlamaForCausalLM.from_pretrained(\n",
        "    MODEL_NAME,\n",
        "    quantization_config=bnb_config,\n",
        "    device_map=\"auto\"\n",
        ")\n",
        "\n",
        "# Apply LoRA (Low-Rank Adaptation) for fine-tuning\n",
        "# peft_config = LoraConfig(\n",
        "#     task_type=TaskType.CAUSAL_LM,\n",
        "#     r=32,  # Increased rank for better accuracy\n",
        "#     lora_alpha=64,\n",
        "#     lora_dropout=0.1,  # Reduces overfitting\n",
        "#     target_modules=[\"q_proj\", \"v_proj\"]  # Fine-tunes only attention layers\n",
        "# )\n",
        "\n",
        "# Configure LoRA for efficient fine-tuning\n",
        "peft_config = LoraConfig(\n",
        "    task_type=TaskType.CAUSAL_LM,\n",
        "    r=16,  # Low-rank adaptation\n",
        "    lora_alpha=32,\n",
        "    lora_dropout=0.05,\n",
        "    target_modules=[\"q_proj\", \"v_proj\"]  # Fine-tuning attention layers\n",
        ")\n",
        "\n",
        "model = get_peft_model(model, peft_config)\n",
        "model.print_trainable_parameters()\n"
      ],
      "metadata": {
        "colab": {
          "base_uri": "https://localhost:8080/"
        },
        "id": "qKb34E7wkVw3",
        "outputId": "add00342-80b3-47a2-dff0-a69711e469bc"
      },
      "execution_count": 14,
      "outputs": [
        {
          "output_type": "stream",
          "name": "stdout",
          "text": [
            "CUDA Available: True\n",
            "CUDA Device Count: 1\n",
            "CUDA Device Name: Tesla T4\n",
            "trainable params: 1,703,936 || all params: 1,237,518,336 || trainable%: 0.1377\n"
          ]
        }
      ]
    },
    {
      "cell_type": "code",
      "source": [
        "\n",
        "from datasets import load_dataset\n",
        "\n",
        "# Load dataset\n",
        "dataset = load_dataset(\"json\", data_files=json_path)\n",
        "\n",
        "# Tokenization function\n",
        "def tokenize_function(examples):\n",
        "    inputs = tokenizer(\n",
        "        examples[\"input\"],\n",
        "        truncation=True,\n",
        "        padding=\"max_length\",\n",
        "        max_length=512,\n",
        "        return_tensors=\"pt\"\n",
        "    )\n",
        "    inputs[\"labels\"] = inputs[\"input_ids\"]\n",
        "    return inputs\n",
        "\n",
        "tokenized_datasets = dataset.map(tokenize_function, batched=True)\n"
      ],
      "metadata": {
        "colab": {
          "base_uri": "https://localhost:8080/",
          "height": 81,
          "referenced_widgets": [
            "449891d34537475196331d8759ed67d1",
            "2692fbea746b458483fa916856f6c8b8",
            "6682e6c57dbe494497aa75ac45c71a50",
            "13941972cb0142a2acb4d16e08431584",
            "1b5288fe77a3433cb1708c2bda542c42",
            "bb7e595909344319a3536a659e74b094",
            "dbc5c762fcd34703ad02f6efd988056d",
            "20f7b15487954861a69035c81d9cd751",
            "316f1e4c3b944ebb992a5b8293e90792",
            "c93de9fc0a87454bbb37d894e667858a",
            "80da382feb134cefa5b356bda8be5ede",
            "9c9ded8b33134532b2ba61f7cfbaa5c0",
            "6c5f971787644f6a917394316a3a8f5e",
            "f4194ded70a34c689a2b67b4a8c8a5d7",
            "5538cb026cd94edfa32d40a76befd1b0",
            "82290e4857ad4bfeae97dfcd08b2f4fb",
            "96e0302b44544f3a83a65e6fb039f189",
            "8c56351da2d5422e94b6e9ea6a62dae3",
            "f0ce85c3b9524e59966af717d8eba78d",
            "21bf10d5e4064a0ebe7623fd1ff2c6a1",
            "2b4fa3c0a71d461297a767a533a2e1a3",
            "4f978f87f74641d8af275d1398ba9047"
          ]
        },
        "id": "HYBJmPEukdot",
        "outputId": "169f4aba-8c27-49b5-e687-3c1195c924fb"
      },
      "execution_count": 15,
      "outputs": [
        {
          "output_type": "display_data",
          "data": {
            "text/plain": [
              "Generating train split: 0 examples [00:00, ? examples/s]"
            ],
            "application/vnd.jupyter.widget-view+json": {
              "version_major": 2,
              "version_minor": 0,
              "model_id": "449891d34537475196331d8759ed67d1"
            }
          },
          "metadata": {}
        },
        {
          "output_type": "display_data",
          "data": {
            "text/plain": [
              "Map:   0%|          | 0/5 [00:00<?, ? examples/s]"
            ],
            "application/vnd.jupyter.widget-view+json": {
              "version_major": 2,
              "version_minor": 0,
              "model_id": "9c9ded8b33134532b2ba61f7cfbaa5c0"
            }
          },
          "metadata": {}
        }
      ]
    },
    {
      "cell_type": "code",
      "source": [
        "from transformers import TrainingArguments, Trainer, DataCollatorForSeq2Seq\n",
        "\n",
        "from transformers import TrainingArguments\n",
        "\n",
        "training_args = TrainingArguments(\n",
        "    output_dir=\"/content/drive/MyDrive/llama_finetuned\",\n",
        "    per_device_train_batch_size=4,  # More examples per batch\n",
        "    gradient_accumulation_steps=8,\n",
        "    num_train_epochs=10,  # More epochs for better learning\n",
        "    save_strategy=\"epoch\",\n",
        "    logging_dir=\"./logs\",\n",
        "    logging_steps=10,\n",
        "    fp16=True if torch.cuda.is_available() else False\n",
        ")\n",
        "\n",
        "\n",
        "data_collator = DataCollatorForSeq2Seq(tokenizer, model=model)\n",
        "\n",
        "trainer = Trainer(\n",
        "    model=model,\n",
        "    args=training_args,\n",
        "    train_dataset=tokenized_datasets[\"train\"],\n",
        "    tokenizer=tokenizer,\n",
        "    data_collator=data_collator\n",
        ")\n"
      ],
      "metadata": {
        "colab": {
          "base_uri": "https://localhost:8080/"
        },
        "id": "hxRHfyH9lCVl",
        "outputId": "4cd93aa8-2a0f-4c80-e1f6-1761098f5e48"
      },
      "execution_count": 16,
      "outputs": [
        {
          "output_type": "stream",
          "name": "stderr",
          "text": [
            "<ipython-input-16-2c99f2f6f700>:19: FutureWarning: `tokenizer` is deprecated and will be removed in version 5.0.0 for `Trainer.__init__`. Use `processing_class` instead.\n",
            "  trainer = Trainer(\n",
            "No label_names provided for model class `PeftModelForCausalLM`. Since `PeftModel` hides base models input arguments, if label_names is not given, label_names can't be set automatically within `Trainer`. Note that empty label_names list will be used instead.\n"
          ]
        }
      ]
    },
    {
      "cell_type": "code",
      "source": [
        "trainer.train()\n"
      ],
      "metadata": {
        "colab": {
          "base_uri": "https://localhost:8080/",
          "height": 110
        },
        "id": "b_oADj5tIbhr",
        "outputId": "cadd4880-7b75-4bd2-b63f-0b4fabc79e5c"
      },
      "execution_count": 36,
      "outputs": [
        {
          "output_type": "display_data",
          "data": {
            "text/plain": [
              "<IPython.core.display.HTML object>"
            ],
            "text/html": [
              "\n",
              "    <div>\n",
              "      \n",
              "      <progress value='5' max='5' style='width:300px; height:20px; vertical-align: middle;'></progress>\n",
              "      [5/5 00:07, Epoch 5/5]\n",
              "    </div>\n",
              "    <table border=\"1\" class=\"dataframe\">\n",
              "  <thead>\n",
              " <tr style=\"text-align: left;\">\n",
              "      <th>Step</th>\n",
              "      <th>Training Loss</th>\n",
              "    </tr>\n",
              "  </thead>\n",
              "  <tbody>\n",
              "  </tbody>\n",
              "</table><p>"
            ]
          },
          "metadata": {}
        },
        {
          "output_type": "execute_result",
          "data": {
            "text/plain": [
              "TrainOutput(global_step=5, training_loss=2.4909746170043947, metrics={'train_runtime': 8.2115, 'train_samples_per_second': 2.436, 'train_steps_per_second': 0.609, 'total_flos': 59894786949120.0, 'train_loss': 2.4909746170043947, 'epoch': 5.0})"
            ]
          },
          "metadata": {},
          "execution_count": 36
        }
      ]
    },
    {
      "cell_type": "code",
      "source": [
        "trainer.save_model(\"/content/drive/MyDrive/llama_finetuned\")\n",
        "tokenizer.save_pretrained(\"/content/drive/MyDrive/llama_finetuned\")\n"
      ],
      "metadata": {
        "colab": {
          "base_uri": "https://localhost:8080/"
        },
        "id": "a6kXMWQpIjH3",
        "outputId": "a639f1ae-138f-40a1-9f5b-223a089607c5"
      },
      "execution_count": 17,
      "outputs": [
        {
          "output_type": "execute_result",
          "data": {
            "text/plain": [
              "('/content/drive/MyDrive/llama_finetuned/tokenizer_config.json',\n",
              " '/content/drive/MyDrive/llama_finetuned/special_tokens_map.json',\n",
              " '/content/drive/MyDrive/llama_finetuned/tokenizer.json')"
            ]
          },
          "metadata": {},
          "execution_count": 17
        }
      ]
    },
    {
      "cell_type": "code",
      "source": [
        "def ask_resume_question(question):\n",
        "    input_text = f\"\"\"\n",
        "### Task: Answer ONLY from the given resume.\n",
        "### Resume Content:\n",
        "{resume_text}\n",
        "\n",
        "### Question:\n",
        "{question}\n",
        "\n",
        "### Answer:\"\"\"\n",
        "\n",
        "    inputs = tokenizer(input_text, return_tensors=\"pt\").to(\"cuda\")\n",
        "\n",
        "    with torch.no_grad():\n",
        "        output = model.generate(\n",
        "            **inputs,\n",
        "            max_new_tokens=100,  # Limits output to prevent hallucination\n",
        "            temperature=0.1,  # Reduces randomness for factual accuracy\n",
        "            top_p=0.8,  # Limits token probability distribution\n",
        "            repetition_penalty=2.1  # Prevents repeating irrelevant details\n",
        "        )\n",
        "\n",
        "    return tokenizer.decode(output[0], skip_special_tokens=True).strip()\n",
        "\n",
        "# Example Queries\n",
        "print(ask_resume_question(\" Did kevin masters in GTU?\"))\n",
        "\n",
        "\n",
        "\n",
        "\n",
        "\n",
        "\n",
        "\n",
        "\n",
        "\n",
        "\n"
      ],
      "metadata": {
        "colab": {
          "base_uri": "https://localhost:8080/"
        },
        "id": "jY8qVRkFIvit",
        "outputId": "45debd5c-ae12-484d-8bfe-6e39b008bacb"
      },
      "execution_count": 38,
      "outputs": [
        {
          "output_type": "stream",
          "name": "stderr",
          "text": [
            "Setting `pad_token_id` to `eos_token_id`:128001 for open-end generation.\n"
          ]
        },
        {
          "output_type": "stream",
          "name": "stdout",
          "text": [
            "### Task: Answer ONLY from the given resume.\n",
            "### Resume Content:\n",
            "Kevin Panchal\n",
            "Email Id: kevinpanchal95@gmail.com| +1 (669)-338-9772 | LinkedIn: www.linkedin.com/in/kevin-panchal.\n",
            "GitHub:- https://github.com/Kevin091295\n",
            "SUMMARY\n",
            "Seeking a full-time position in Data Science, Machine Learning, or AI Development. Skilled in Python, R, SQL, word\n",
            "embedding, and CNNs, with a focus on analyzing data and developing AI-driven solutions. Currently enhancing my\n",
            "expertise in large language models (LLMs), graph databases, and vector databases\n",
            "EDUCATION\n",
            "Cleveland State University Jan 2023-Dec 2024\n",
            "Master of Software Engineering\n",
            "Relevant Coursework: Deep Learning, Software Engineering, Database Management, Data mining\n",
            "Vishwakarma Government Engineering College, Gujarat Technological University Aug 2013-May 2017\n",
            "Bachelors in Computer Engineering\n",
            "Relevant Coursework: Computer Network, System Programming, Artificial Intelligence, Data Structure\n",
            "TECHNICAL SKILLS\n",
            "● Current Learning Focus: Fine-tuning Llama 3 Model, Word Embedding, Fine-tuning LLMs, Graph Databases\n",
            "● Programming Languages: Python, R, SQL\n",
            "● Data Tools: MySQL, MongoDB, Astra DB, PhpMyAdmin, Neo 4j\n",
            "● IDE: Eclipse, NetBeans, Visual Studio, PyCharm, Jupyter Notebook, Google Colab\n",
            "● Cloud Platforms: Google Cloud Platform (GCP), IBM Watson Studio\n",
            "● Data Visualization: Power BI, Matplotlib, Seaborn\n",
            "WORK EXPERIENCE\n",
            "Machine Learning Intern, ASI Analytics, Chicago, USA July 2024- Aug 2024\n",
            "Applied fine-tuning and Low-Rank Adaptation (LoRA) on the Llama 3.1 model to enhance performance on large-scale\n",
            "datasets. Implemented Retrieval-Augmented Generation (RAG) for efficient data retrieval and insights from datasets\n",
            "containing billions of records\n",
            "Web Developer, Streamspace.ai, Ahmedabad, India |Freelancing January 2022-December 2022\n",
            "Developed dynamic and responsive user interfaces using HTML, CSS, JavaScript, and React.js to create engaging web\n",
            "applications. Utilized jQuery and Bootstrap to enhance functionality and maintain a consistent design. Focused on\n",
            "optimizing the user experience through responsive design principles and the use of efficient front-end frameworks,\n",
            "ensuring high performance and accessibility across devices\n",
            "Customer Relationship Management Business Analyst | BPM, Department of Posts, India · Full-time Jan 2018-Dec 2022\n",
            "Led testing phase for Rural ICT device, ensuring quality and functionality. Drove sales of insurance products and\n",
            "promoted savings accounts, achieving high customer conversion rates. Managed Aadhaar registration camps to\n",
            "support financial inclusion. Created communication materials for non-technical stakeholders, enhancing efficiency in\n",
            "testing and sales efforts\n",
            "PROJECTS\n",
            "Photo Nexus- Secured Identity Discovery Across Cloud and Local Storage May 2024\n",
            "Developed a Python-based facial recognition photo search tool using DeepFace, achieving 98% accuracy for Cleveland\n",
            "State University. Integrated cloud services (Dropbox, OneDrive, Box) for seamless searches while ensuring data privacy\n",
            "Automated Image Description Generator Aug 2023\n",
            "Led an automated image captioning project using the Keras framework, implementing CNN and Inception v3 for\n",
            "feature extraction. Developed data structures for standardizing input and used data visualization techniques to\n",
            "present insights, achieving 87% accuracy in generating descriptive captions.\n",
            "Lung Cancer Detection using CNN April 2023\n",
            "Developed a Lung Cancer Detection application using Python, TensorFlow, and OpenCV. Designed a user-friendly GUI\n",
            "with Tkinter for improved accessibility and enhanced nodule analysis through advanced image processing\n",
            "techniques.\n",
            "\n",
            "### Question:\n",
            " Did kevin masters in GTU?\n",
            "\n",
            "### Answer: Yes\n"
          ]
        }
      ]
    },
    {
      "cell_type": "code",
      "source": [],
      "metadata": {
        "id": "M-Of0tDRJFS9"
      },
      "execution_count": null,
      "outputs": []
    }
  ]
}